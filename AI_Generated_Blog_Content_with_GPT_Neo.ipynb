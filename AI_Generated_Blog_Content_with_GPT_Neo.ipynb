{
  "nbformat": 4,
  "nbformat_minor": 0,
  "metadata": {
    "colab": {
      "provenance": [],
      "gpuType": "T4",
      "authorship_tag": "ABX9TyOdvzmT2bF0m53U/HghWqNN",
      "include_colab_link": true
    },
    "kernelspec": {
      "name": "python3",
      "display_name": "Python 3"
    },
    "language_info": {
      "name": "python"
    },
    "accelerator": "GPU"
  },
  "cells": [
    {
      "cell_type": "markdown",
      "metadata": {
        "id": "view-in-github",
        "colab_type": "text"
      },
      "source": [
        "<a href=\"https://colab.research.google.com/github/nabila-nazzy/AI-Generation-BlogPost/blob/main/AI_Generated_Blog_Content_with_GPT_Neo.ipynb\" target=\"_parent\"><img src=\"https://colab.research.google.com/assets/colab-badge.svg\" alt=\"Open In Colab\"/></a>"
      ]
    },
    {
      "cell_type": "markdown",
      "source": [
        "# Libraries and Installations"
      ],
      "metadata": {
        "id": "5NHn0p_YjYu8"
      }
    },
    {
      "cell_type": "code",
      "execution_count": 18,
      "metadata": {
        "colab": {
          "base_uri": "https://localhost:8080/"
        },
        "id": "5JYX7bYnX_xL",
        "outputId": "39e0c02a-b9ed-43a7-df69-8bde197171fd"
      },
      "outputs": [
        {
          "output_type": "stream",
          "name": "stdout",
          "text": [
            "Looking in indexes: https://pypi.org/simple, https://us-python.pkg.dev/colab-wheels/public/simple/\n",
            "Collecting gradio==2.4.0\n",
            "  Downloading gradio-2.4.0-py3-none-any.whl (2.0 MB)\n",
            "\u001b[2K     \u001b[90m━━━━━━━━━━━━━━━━━━━━━━━━━━━━━━━━━━━━━━━━\u001b[0m \u001b[32m2.0/2.0 MB\u001b[0m \u001b[31m54.4 MB/s\u001b[0m eta \u001b[36m0:00:00\u001b[0m\n",
            "\u001b[?25hCollecting Flask-Cors>=3.0.8 (from gradio==2.4.0)\n",
            "  Downloading Flask_Cors-3.0.10-py2.py3-none-any.whl (14 kB)\n",
            "Collecting Flask-Login (from gradio==2.4.0)\n",
            "  Downloading Flask_Login-0.6.2-py3-none-any.whl (17 kB)\n",
            "Requirement already satisfied: Flask>=1.1.1 in /usr/local/lib/python3.10/dist-packages (from gradio==2.4.0) (2.2.4)\n",
            "Collecting analytics-python (from gradio==2.4.0)\n",
            "  Downloading analytics_python-1.4.post1-py2.py3-none-any.whl (23 kB)\n",
            "Collecting ffmpy (from gradio==2.4.0)\n",
            "  Downloading ffmpy-0.3.0.tar.gz (4.8 kB)\n",
            "  Preparing metadata (setup.py) ... \u001b[?25l\u001b[?25hdone\n",
            "Collecting flask-cachebuster (from gradio==2.4.0)\n",
            "  Downloading Flask-CacheBuster-1.0.0.tar.gz (3.1 kB)\n",
            "  Preparing metadata (setup.py) ... \u001b[?25l\u001b[?25hdone\n",
            "Collecting markdown2 (from gradio==2.4.0)\n",
            "  Downloading markdown2-2.4.8-py2.py3-none-any.whl (38 kB)\n",
            "Requirement already satisfied: matplotlib in /usr/local/lib/python3.10/dist-packages (from gradio==2.4.0) (3.7.1)\n",
            "Requirement already satisfied: numpy in /usr/local/lib/python3.10/dist-packages (from gradio==2.4.0) (1.22.4)\n",
            "Requirement already satisfied: pandas in /usr/local/lib/python3.10/dist-packages (from gradio==2.4.0) (1.5.3)\n",
            "Collecting paramiko (from gradio==2.4.0)\n",
            "  Downloading paramiko-3.2.0-py3-none-any.whl (224 kB)\n",
            "\u001b[2K     \u001b[90m━━━━━━━━━━━━━━━━━━━━━━━━━━━━━━━━━━━━━━\u001b[0m \u001b[32m224.2/224.2 kB\u001b[0m \u001b[31m28.4 MB/s\u001b[0m eta \u001b[36m0:00:00\u001b[0m\n",
            "\u001b[?25hRequirement already satisfied: pillow in /usr/local/lib/python3.10/dist-packages (from gradio==2.4.0) (8.4.0)\n",
            "Collecting pycryptodome (from gradio==2.4.0)\n",
            "  Downloading pycryptodome-3.18.0-cp35-abi3-manylinux_2_17_x86_64.manylinux2014_x86_64.whl (2.1 MB)\n",
            "\u001b[2K     \u001b[90m━━━━━━━━━━━━━━━━━━━━━━━━━━━━━━━━━━━━━━━━\u001b[0m \u001b[32m2.1/2.1 MB\u001b[0m \u001b[31m88.8 MB/s\u001b[0m eta \u001b[36m0:00:00\u001b[0m\n",
            "\u001b[?25hCollecting pydub (from gradio==2.4.0)\n",
            "  Downloading pydub-0.25.1-py2.py3-none-any.whl (32 kB)\n",
            "Requirement already satisfied: requests in /usr/local/lib/python3.10/dist-packages (from gradio==2.4.0) (2.27.1)\n",
            "Requirement already satisfied: Werkzeug>=2.2.2 in /usr/local/lib/python3.10/dist-packages (from Flask>=1.1.1->gradio==2.4.0) (2.3.0)\n",
            "Requirement already satisfied: Jinja2>=3.0 in /usr/local/lib/python3.10/dist-packages (from Flask>=1.1.1->gradio==2.4.0) (3.1.2)\n",
            "Requirement already satisfied: itsdangerous>=2.0 in /usr/local/lib/python3.10/dist-packages (from Flask>=1.1.1->gradio==2.4.0) (2.1.2)\n",
            "Requirement already satisfied: click>=8.0 in /usr/local/lib/python3.10/dist-packages (from Flask>=1.1.1->gradio==2.4.0) (8.1.3)\n",
            "Requirement already satisfied: Six in /usr/local/lib/python3.10/dist-packages (from Flask-Cors>=3.0.8->gradio==2.4.0) (1.16.0)\n",
            "Collecting monotonic>=1.5 (from analytics-python->gradio==2.4.0)\n",
            "  Downloading monotonic-1.6-py2.py3-none-any.whl (8.2 kB)\n",
            "Collecting backoff==1.10.0 (from analytics-python->gradio==2.4.0)\n",
            "  Downloading backoff-1.10.0-py2.py3-none-any.whl (31 kB)\n",
            "Requirement already satisfied: python-dateutil>2.1 in /usr/local/lib/python3.10/dist-packages (from analytics-python->gradio==2.4.0) (2.8.2)\n",
            "Requirement already satisfied: urllib3<1.27,>=1.21.1 in /usr/local/lib/python3.10/dist-packages (from requests->gradio==2.4.0) (1.26.15)\n",
            "Requirement already satisfied: certifi>=2017.4.17 in /usr/local/lib/python3.10/dist-packages (from requests->gradio==2.4.0) (2022.12.7)\n",
            "Requirement already satisfied: charset-normalizer~=2.0.0 in /usr/local/lib/python3.10/dist-packages (from requests->gradio==2.4.0) (2.0.12)\n",
            "Requirement already satisfied: idna<4,>=2.5 in /usr/local/lib/python3.10/dist-packages (from requests->gradio==2.4.0) (3.4)\n",
            "Requirement already satisfied: contourpy>=1.0.1 in /usr/local/lib/python3.10/dist-packages (from matplotlib->gradio==2.4.0) (1.0.7)\n",
            "Requirement already satisfied: cycler>=0.10 in /usr/local/lib/python3.10/dist-packages (from matplotlib->gradio==2.4.0) (0.11.0)\n",
            "Requirement already satisfied: fonttools>=4.22.0 in /usr/local/lib/python3.10/dist-packages (from matplotlib->gradio==2.4.0) (4.39.3)\n",
            "Requirement already satisfied: kiwisolver>=1.0.1 in /usr/local/lib/python3.10/dist-packages (from matplotlib->gradio==2.4.0) (1.4.4)\n",
            "Requirement already satisfied: packaging>=20.0 in /usr/local/lib/python3.10/dist-packages (from matplotlib->gradio==2.4.0) (23.1)\n",
            "Requirement already satisfied: pyparsing>=2.3.1 in /usr/local/lib/python3.10/dist-packages (from matplotlib->gradio==2.4.0) (3.0.9)\n",
            "Requirement already satisfied: pytz>=2020.1 in /usr/local/lib/python3.10/dist-packages (from pandas->gradio==2.4.0) (2022.7.1)\n",
            "Collecting bcrypt>=3.2 (from paramiko->gradio==2.4.0)\n",
            "  Downloading bcrypt-4.0.1-cp36-abi3-manylinux_2_28_x86_64.whl (593 kB)\n",
            "\u001b[2K     \u001b[90m━━━━━━━━━━━━━━━━━━━━━━━━━━━━━━━━━━━━━━\u001b[0m \u001b[32m593.7/593.7 kB\u001b[0m \u001b[31m57.5 MB/s\u001b[0m eta \u001b[36m0:00:00\u001b[0m\n",
            "\u001b[?25hRequirement already satisfied: cryptography>=3.3 in /usr/local/lib/python3.10/dist-packages (from paramiko->gradio==2.4.0) (40.0.2)\n",
            "Collecting pynacl>=1.5 (from paramiko->gradio==2.4.0)\n",
            "  Downloading PyNaCl-1.5.0-cp36-abi3-manylinux_2_17_x86_64.manylinux2014_x86_64.manylinux_2_24_x86_64.whl (856 kB)\n",
            "\u001b[2K     \u001b[90m━━━━━━━━━━━━━━━━━━━━━━━━━━━━━━━━━━━━━━\u001b[0m \u001b[32m856.7/856.7 kB\u001b[0m \u001b[31m76.3 MB/s\u001b[0m eta \u001b[36m0:00:00\u001b[0m\n",
            "\u001b[?25hRequirement already satisfied: cffi>=1.12 in /usr/local/lib/python3.10/dist-packages (from cryptography>=3.3->paramiko->gradio==2.4.0) (1.15.1)\n",
            "Requirement already satisfied: MarkupSafe>=2.0 in /usr/local/lib/python3.10/dist-packages (from Jinja2>=3.0->Flask>=1.1.1->gradio==2.4.0) (2.1.2)\n",
            "Requirement already satisfied: pycparser in /usr/local/lib/python3.10/dist-packages (from cffi>=1.12->cryptography>=3.3->paramiko->gradio==2.4.0) (2.21)\n",
            "Building wheels for collected packages: ffmpy, flask-cachebuster\n",
            "  Building wheel for ffmpy (setup.py) ... \u001b[?25l\u001b[?25hdone\n",
            "  Created wheel for ffmpy: filename=ffmpy-0.3.0-py3-none-any.whl size=4694 sha256=2d0bffd6b80e588886292855ee9a5b8e63ddd724ea8126a48a0a205e40402b36\n",
            "  Stored in directory: /root/.cache/pip/wheels/0c/c2/0e/3b9c6845c6a4e35beb90910cc70d9ac9ab5d47402bd62af0df\n",
            "  Building wheel for flask-cachebuster (setup.py) ... \u001b[?25l\u001b[?25hdone\n",
            "  Created wheel for flask-cachebuster: filename=Flask_CacheBuster-1.0.0-py3-none-any.whl size=3355 sha256=7d3463e971dd0c8d8177e8c97f1c8b40faf82b26cce031d37bb596bc8c5985c4\n",
            "  Stored in directory: /root/.cache/pip/wheels/22/35/5e/088242cb16f309a4ff4e94ce97f1ef8a469983fdde92b45f50\n",
            "Successfully built ffmpy flask-cachebuster\n",
            "Installing collected packages: pydub, monotonic, ffmpy, pycryptodome, markdown2, bcrypt, backoff, pynacl, analytics-python, paramiko, Flask-Login, Flask-Cors, flask-cachebuster, gradio\n",
            "Successfully installed Flask-Cors-3.0.10 Flask-Login-0.6.2 analytics-python-1.4.post1 backoff-1.10.0 bcrypt-4.0.1 ffmpy-0.3.0 flask-cachebuster-1.0.0 gradio-2.4.0 markdown2-2.4.8 monotonic-1.6 paramiko-3.2.0 pycryptodome-3.18.0 pydub-0.25.1 pynacl-1.5.0\n"
          ]
        }
      ],
      "source": [
        "#Gradio version should be 2.4.0\n",
        "\n",
        "!pip install gradio==2.4.0"
      ]
    },
    {
      "cell_type": "code",
      "source": [
        "!pip install transformers\n"
      ],
      "metadata": {
        "colab": {
          "base_uri": "https://localhost:8080/"
        },
        "id": "kWNk6t0qV9pK",
        "outputId": "0d738f1a-9123-4f63-a3e7-3eb9400e1623"
      },
      "execution_count": 3,
      "outputs": [
        {
          "output_type": "stream",
          "name": "stdout",
          "text": [
            "Looking in indexes: https://pypi.org/simple, https://us-python.pkg.dev/colab-wheels/public/simple/\n",
            "Collecting transformers\n",
            "  Using cached transformers-4.29.2-py3-none-any.whl (7.1 MB)\n",
            "Requirement already satisfied: filelock in /usr/local/lib/python3.10/dist-packages (from transformers) (3.12.0)\n",
            "Collecting huggingface-hub<1.0,>=0.14.1 (from transformers)\n",
            "  Using cached huggingface_hub-0.15.1-py3-none-any.whl (236 kB)\n",
            "Requirement already satisfied: numpy>=1.17 in /usr/local/lib/python3.10/dist-packages (from transformers) (1.22.4)\n",
            "Requirement already satisfied: packaging>=20.0 in /usr/local/lib/python3.10/dist-packages (from transformers) (23.1)\n",
            "Requirement already satisfied: pyyaml>=5.1 in /usr/local/lib/python3.10/dist-packages (from transformers) (6.0)\n",
            "Requirement already satisfied: regex!=2019.12.17 in /usr/local/lib/python3.10/dist-packages (from transformers) (2022.10.31)\n",
            "Requirement already satisfied: requests in /usr/local/lib/python3.10/dist-packages (from transformers) (2.27.1)\n",
            "Collecting tokenizers!=0.11.3,<0.14,>=0.11.1 (from transformers)\n",
            "  Using cached tokenizers-0.13.3-cp310-cp310-manylinux_2_17_x86_64.manylinux2014_x86_64.whl (7.8 MB)\n",
            "Requirement already satisfied: tqdm>=4.27 in /usr/local/lib/python3.10/dist-packages (from transformers) (4.65.0)\n",
            "Requirement already satisfied: fsspec in /usr/local/lib/python3.10/dist-packages (from huggingface-hub<1.0,>=0.14.1->transformers) (2023.4.0)\n",
            "Requirement already satisfied: typing-extensions>=3.7.4.3 in /usr/local/lib/python3.10/dist-packages (from huggingface-hub<1.0,>=0.14.1->transformers) (4.5.0)\n",
            "Requirement already satisfied: urllib3<1.27,>=1.21.1 in /usr/local/lib/python3.10/dist-packages (from requests->transformers) (1.26.15)\n",
            "Requirement already satisfied: certifi>=2017.4.17 in /usr/local/lib/python3.10/dist-packages (from requests->transformers) (2022.12.7)\n",
            "Requirement already satisfied: charset-normalizer~=2.0.0 in /usr/local/lib/python3.10/dist-packages (from requests->transformers) (2.0.12)\n",
            "Requirement already satisfied: idna<4,>=2.5 in /usr/local/lib/python3.10/dist-packages (from requests->transformers) (3.4)\n",
            "Installing collected packages: tokenizers, huggingface-hub, transformers\n",
            "Successfully installed huggingface-hub-0.15.1 tokenizers-0.13.3 transformers-4.29.2\n"
          ]
        }
      ]
    },
    {
      "cell_type": "code",
      "source": [
        "!pip install xformers"
      ],
      "metadata": {
        "colab": {
          "base_uri": "https://localhost:8080/"
        },
        "id": "_PV3XtnUXBga",
        "outputId": "2d2e522b-f1e9-4a0c-e840-eb6498bb561b"
      },
      "execution_count": 5,
      "outputs": [
        {
          "output_type": "stream",
          "name": "stdout",
          "text": [
            "Looking in indexes: https://pypi.org/simple, https://us-python.pkg.dev/colab-wheels/public/simple/\n",
            "Collecting xformers\n",
            "  Downloading xformers-0.0.20-cp310-cp310-manylinux2014_x86_64.whl (109.1 MB)\n",
            "\u001b[2K     \u001b[90m━━━━━━━━━━━━━━━━━━━━━━━━━━━━━━━━━━━━━━━\u001b[0m \u001b[32m109.1/109.1 MB\u001b[0m \u001b[31m9.9 MB/s\u001b[0m eta \u001b[36m0:00:00\u001b[0m\n",
            "\u001b[?25hRequirement already satisfied: numpy in /usr/local/lib/python3.10/dist-packages (from xformers) (1.22.4)\n",
            "Collecting pyre-extensions==0.0.29 (from xformers)\n",
            "  Downloading pyre_extensions-0.0.29-py3-none-any.whl (12 kB)\n",
            "Requirement already satisfied: torch==2.0.1 in /usr/local/lib/python3.10/dist-packages (from xformers) (2.0.1+cu118)\n",
            "Collecting typing-inspect (from pyre-extensions==0.0.29->xformers)\n",
            "  Downloading typing_inspect-0.9.0-py3-none-any.whl (8.8 kB)\n",
            "Requirement already satisfied: typing-extensions in /usr/local/lib/python3.10/dist-packages (from pyre-extensions==0.0.29->xformers) (4.5.0)\n",
            "Requirement already satisfied: filelock in /usr/local/lib/python3.10/dist-packages (from torch==2.0.1->xformers) (3.12.0)\n",
            "Requirement already satisfied: sympy in /usr/local/lib/python3.10/dist-packages (from torch==2.0.1->xformers) (1.11.1)\n",
            "Requirement already satisfied: networkx in /usr/local/lib/python3.10/dist-packages (from torch==2.0.1->xformers) (3.1)\n",
            "Requirement already satisfied: jinja2 in /usr/local/lib/python3.10/dist-packages (from torch==2.0.1->xformers) (3.1.2)\n",
            "Requirement already satisfied: triton==2.0.0 in /usr/local/lib/python3.10/dist-packages (from torch==2.0.1->xformers) (2.0.0)\n",
            "Requirement already satisfied: cmake in /usr/local/lib/python3.10/dist-packages (from triton==2.0.0->torch==2.0.1->xformers) (3.25.2)\n",
            "Requirement already satisfied: lit in /usr/local/lib/python3.10/dist-packages (from triton==2.0.0->torch==2.0.1->xformers) (16.0.5)\n",
            "Requirement already satisfied: MarkupSafe>=2.0 in /usr/local/lib/python3.10/dist-packages (from jinja2->torch==2.0.1->xformers) (2.1.2)\n",
            "Requirement already satisfied: mpmath>=0.19 in /usr/local/lib/python3.10/dist-packages (from sympy->torch==2.0.1->xformers) (1.3.0)\n",
            "Collecting mypy-extensions>=0.3.0 (from typing-inspect->pyre-extensions==0.0.29->xformers)\n",
            "  Downloading mypy_extensions-1.0.0-py3-none-any.whl (4.7 kB)\n",
            "Installing collected packages: mypy-extensions, typing-inspect, pyre-extensions, xformers\n",
            "Successfully installed mypy-extensions-1.0.0 pyre-extensions-0.0.29 typing-inspect-0.9.0 xformers-0.0.20\n"
          ]
        }
      ]
    },
    {
      "cell_type": "markdown",
      "source": [
        "# Defining the Model"
      ],
      "metadata": {
        "id": "WEcaorotjdwp"
      }
    },
    {
      "cell_type": "code",
      "source": [
        "# Initialising the text generation pipeline\n",
        "\n",
        "from transformers import pipeline\n",
        "\n",
        "ai = pipeline('text-generation', model ='EleutherAI/gpt-neo-125M')\n",
        "\n",
        "# We are using the GPT-Neo model with 125 million parameters from transformers.\n",
        " # Takes a while to load."
      ],
      "metadata": {
        "id": "GN_VcUMuZE_B"
      },
      "execution_count": 1,
      "outputs": []
    },
    {
      "cell_type": "code",
      "source": [
        "# Put the pipeline in a function which will be inserted into the interface api. \n",
        "\n",
        "def ai_text(inp):\n",
        "  generated_text = ai(post, max_length=1000, do_sample=True, temperature=0.9)\n",
        "  # max output length is 1000 words, we will allow sampling and the temperature value is used to model the next set of probabilities.\n",
        "  # post = the input text.\n",
        "  return generated_text"
      ],
      "metadata": {
        "id": "2yCdxYblZZk7"
      },
      "execution_count": 3,
      "outputs": []
    },
    {
      "cell_type": "code",
      "source": [
        "# The input text, can be anything here.\n",
        "post = \"China is the global leading superpower in AI\"\n",
        "\n",
        "# The output\n",
        "ai_text(post)"
      ],
      "metadata": {
        "colab": {
          "base_uri": "https://localhost:8080/"
        },
        "id": "Oi2CrtjPZWUv",
        "outputId": "2008f951-2446-4a48-9ef3-81470d38dc0e"
      },
      "execution_count": 4,
      "outputs": [
        {
          "output_type": "stream",
          "name": "stderr",
          "text": [
            "Setting `pad_token_id` to `eos_token_id`:50256 for open-end generation.\n"
          ]
        },
        {
          "output_type": "execute_result",
          "data": {
            "text/plain": [
              "[{'generated_text': \"China is the global leading superpower in AI, with more than 2 billion users, about one million of which reach into the US, India and China. There are many companies in the industry, whose employees receive their training from the US government. Some of them are: Microsoft, Sony, Google, Apple, eBay, Google Shopping, Facebook, Google Pay, and others. The US government has hired them to develop AI solutions for the majority of the world's citizens. Though each of these companies has a set of rules and regulations for AI, the US government has been trying to protect them.\\n\\nTo help people to work safely, the US government is trying to educate its workforce, to make sure that AI is not taken for granted and it will be safe for everyone.\\n\\nBut in 2013 many of these companies were not so bright. In 2014, after the AI industry was closed down, the government was able to put in place what are believed to be about 100 million violent robots, which are able to kill a huge number of people, all of them in the US. In just the first few months that the robot was operating, it had been tested and successfully sold to the public, and even had a great reputation.\\n\\nIn August 2015, a private company purchased the robot for $100 million and put the device in front of a group of local government officials and others. After the public uproar, the government agreed to allow the robot to use a public road in the US, which in turn allowed it to enter the city of Los Angeles that was being used by the police force. However, the government decided against it due to its size.\\n\\nHow does this change the US public's understanding of the issue? Does it hurt some of the world's least well-known, least profitable companies, such as Facebook? Or are they simply because of the scale of the problems?\\n\\nThe answer is both. AI is a valuable technology that could be used in the future to improve the lives of people. Indeed, the US government is trying to protect these companies and their employees. To this end, this article will cover some of the reasons companies are not so bright, and why they're not being encouraged to focus their efforts to protect their people. loaned by the government?\\n\\n1. It is not only the US government that is being ignored. We know, for example, that a company called Google is one of the world's biggest search engines. In addition to its search engine, Google also has its AI unit, AI Research, and AI and Digital Strategy Unit, and a very large number of tech companies. The reason they are not being given the attention they deserve? The US government, for example, is trying to protect them. In a blog post published last week, the US government said that it is trying to protect its employees, especially from companies trying to recruit people to work for the US and other countries in the world. And there is very little if any criticism of this.\\n\\n2. This article will focus on the US government's role versus the US government's role. We'll examine how this may impact the US public's understanding of AI and how that impacts those of us working in the world's most heavily leveraged industries.\\n\\n3. Here are some of the key reasons for the US government's actions:\\n\\nThe US government is trying to protect its citizens from threats to their safety. But it will be safe for everyone to work safely. Because the US government is working to protect its citizens and not to be seen as a threat. As a country, we are looking for ways to create and create opportunities to be a part of the future of people and the future of society.\\n\\n4. This article will focus on two key reasons:\\n\\nThe country that the US government has the best chance of doing right by AI, and the US government is the country that is most likely to be the next leader in AI. In fact, the US government is the country that is most likely to prevent all of these companies. As the article states, the US government has been trying to protect the people of the world because of its size. In the same blog post, the United States Department of Education released updated versions of their report. Because the US government has taken these actions, it has made significant changes to its actions, which will affect the US public's understanding of AI and AI Research. This article will cover some of these changes.\\n\\nThe US government is not only trying to protect its employees from threats to their safety. It is also trying to protect its citizens from being given a role. The US government has taken over 100 million violent robots for the US to protect from threatening threats. In fact, the US government is cooking up a long list of threats that might occur in this country:\\n\\n- AI: These robots can be very dangerous, and they are not designed to destroy\"}]"
            ]
          },
          "metadata": {},
          "execution_count": 4
        }
      ]
    },
    {
      "cell_type": "code",
      "source": [
        "# Making the interface\n",
        "import gradio as gr\n",
        "\n",
        "blog_inputs = gr.inputs.Textbox(lines=3, placeholder=\"Enter sentence to generate new posts...\")\n",
        "\n",
        "interface = gr.Interface(fn=ai_text, \n",
        "                        inputs=blog_inputs,\n",
        "                        outputs='text',\n",
        "                        title='AI based blog content generator')\n",
        "\n",
        "# Launch the interface.\n",
        "interface.launch()"
      ],
      "metadata": {
        "colab": {
          "base_uri": "https://localhost:8080/",
          "height": 660
        },
        "id": "wIa-3qCqYXd4",
        "outputId": "cd69f970-2a90-4a17-fd21-bb33ebd8910c"
      },
      "execution_count": 5,
      "outputs": [
        {
          "output_type": "stream",
          "name": "stdout",
          "text": [
            "IMPORTANT: You are using gradio version 2.4.0, however version 3.14.0 is available, please upgrade.\n",
            "--------\n",
            "Colab notebook detected. To show errors in colab notebook, set debug=True in launch()\n",
            "This share link will expire in 72 hours. If you need a permanent link, visit: https://gradio.app/introducing-hosted (NEW!)\n",
            "Running on External URL: https://28396b0c86fb0d85.gradio.app\n"
          ]
        },
        {
          "output_type": "display_data",
          "data": {
            "text/plain": [
              "<IPython.lib.display.IFrame at 0x7f7f0200d630>"
            ],
            "text/html": [
              "\n",
              "        <iframe\n",
              "            width=\"900\"\n",
              "            height=\"500\"\n",
              "            src=\"https://28396b0c86fb0d85.gradio.app\"\n",
              "            frameborder=\"0\"\n",
              "            allowfullscreen\n",
              "            \n",
              "        ></iframe>\n",
              "        "
            ]
          },
          "metadata": {}
        },
        {
          "output_type": "execute_result",
          "data": {
            "text/plain": [
              "(<Flask 'gradio.networking'>,\n",
              " 'http://127.0.0.1:7860/',\n",
              " 'https://28396b0c86fb0d85.gradio.app')"
            ]
          },
          "metadata": {},
          "execution_count": 5
        }
      ]
    }
  ]
}